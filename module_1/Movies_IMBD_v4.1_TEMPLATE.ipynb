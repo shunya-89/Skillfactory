{
 "cells": [
  {
   "cell_type": "code",
   "execution_count": 9,
   "metadata": {
    "_cell_guid": "b1076dfc-b9ad-4769-8c92-a6c4dae69d19",
    "_uuid": "8f2839f25d086af736a60e9eeb907d3b93b6e0e5",
    "colab": {},
    "colab_type": "code",
    "id": "U2D2gTdJVp90"
   },
   "outputs": [],
   "source": [
    "import numpy as np\n",
    "import pandas as pd\n",
    "import seaborn as sns\n",
    "import matplotlib.pyplot as plt\n",
    "from collections import Counter"
   ]
  },
  {
   "cell_type": "code",
   "execution_count": 10,
   "metadata": {
    "_cell_guid": "79c7e3d0-c299-4dcb-8224-4455121ee9b0",
    "_uuid": "d629ff2d2480ee46fbb7e2d37f6b5fab8052498a",
    "colab": {},
    "colab_type": "code",
    "id": "oyGfxL3eVp9-"
   },
   "outputs": [
    {
     "data": {
      "text/html": [
       "<div>\n",
       "<style scoped>\n",
       "    .dataframe tbody tr th:only-of-type {\n",
       "        vertical-align: middle;\n",
       "    }\n",
       "\n",
       "    .dataframe tbody tr th {\n",
       "        vertical-align: top;\n",
       "    }\n",
       "\n",
       "    .dataframe thead th {\n",
       "        text-align: right;\n",
       "    }\n",
       "</style>\n",
       "<table border=\"1\" class=\"dataframe\">\n",
       "  <thead>\n",
       "    <tr style=\"text-align: right;\">\n",
       "      <th></th>\n",
       "      <th>imdb_id</th>\n",
       "      <th>budget</th>\n",
       "      <th>revenue</th>\n",
       "      <th>original_title</th>\n",
       "      <th>cast</th>\n",
       "      <th>director</th>\n",
       "      <th>tagline</th>\n",
       "      <th>overview</th>\n",
       "      <th>runtime</th>\n",
       "      <th>genres</th>\n",
       "      <th>production_companies</th>\n",
       "      <th>release_date</th>\n",
       "      <th>vote_average</th>\n",
       "      <th>release_year</th>\n",
       "    </tr>\n",
       "  </thead>\n",
       "  <tbody>\n",
       "    <tr>\n",
       "      <th>841</th>\n",
       "      <td>tt1596346</td>\n",
       "      <td>18000000</td>\n",
       "      <td>47088990</td>\n",
       "      <td>Soul Surfer</td>\n",
       "      <td>AnnaSophia Robb|Helen Hunt|Lorraine Nicholson|...</td>\n",
       "      <td>Sean McNamara</td>\n",
       "      <td>When you come back from a loss, beat the odds,...</td>\n",
       "      <td>Soul Surfer is the inspiring true story of tee...</td>\n",
       "      <td>106</td>\n",
       "      <td>Action|Drama</td>\n",
       "      <td>Mandalay Pictures|TriStar Pictures|Brookwell-M...</td>\n",
       "      <td>4/8/2011</td>\n",
       "      <td>6.9</td>\n",
       "      <td>2011</td>\n",
       "    </tr>\n",
       "    <tr>\n",
       "      <th>1120</th>\n",
       "      <td>tt0314353</td>\n",
       "      <td>70000000</td>\n",
       "      <td>85632458</td>\n",
       "      <td>Tears of the Sun</td>\n",
       "      <td>Bruce Willis|Monica Bellucci|Cole Hauser|Eamon...</td>\n",
       "      <td>Antoine Fuqua</td>\n",
       "      <td>He was trained to follow orders. He became a h...</td>\n",
       "      <td>Navy SEAL Lieutenant A.K. Waters and his elite...</td>\n",
       "      <td>121</td>\n",
       "      <td>Action|Drama|War</td>\n",
       "      <td>Columbia Pictures|Revolution Studios|Cheyenne ...</td>\n",
       "      <td>3/7/2003</td>\n",
       "      <td>6.4</td>\n",
       "      <td>2003</td>\n",
       "    </tr>\n",
       "    <tr>\n",
       "      <th>204</th>\n",
       "      <td>tt1742334</td>\n",
       "      <td>35000000</td>\n",
       "      <td>17508518</td>\n",
       "      <td>Sabotage</td>\n",
       "      <td>Arnold Schwarzenegger|Sam Worthington|Mireille...</td>\n",
       "      <td>David Ayer</td>\n",
       "      <td>Leave no loose ends</td>\n",
       "      <td>In \"Sabotage\", Arnold Schwarzenegger leads an ...</td>\n",
       "      <td>110</td>\n",
       "      <td>Action|Drama|Thriller|Crime</td>\n",
       "      <td>Open Road Films|QED International|Albert S. Ru...</td>\n",
       "      <td>3/28/2014</td>\n",
       "      <td>5.4</td>\n",
       "      <td>2014</td>\n",
       "    </tr>\n",
       "    <tr>\n",
       "      <th>1295</th>\n",
       "      <td>tt1413495</td>\n",
       "      <td>35000000</td>\n",
       "      <td>13785015</td>\n",
       "      <td>Paranoia</td>\n",
       "      <td>Liam Hemsworth|Harrison Ford|Gary Oldman|Amber...</td>\n",
       "      <td>Robert Luketic</td>\n",
       "      <td>In a war between kings even a pawn can change ...</td>\n",
       "      <td>An entry-level employee at a powerful corporat...</td>\n",
       "      <td>106</td>\n",
       "      <td>Drama|Thriller</td>\n",
       "      <td>Gaumont|Kintop Pictures|Reliance Entertainment...</td>\n",
       "      <td>8/14/2013</td>\n",
       "      <td>5.6</td>\n",
       "      <td>2013</td>\n",
       "    </tr>\n",
       "    <tr>\n",
       "      <th>401</th>\n",
       "      <td>tt0429493</td>\n",
       "      <td>110000000</td>\n",
       "      <td>177238796</td>\n",
       "      <td>The A-Team</td>\n",
       "      <td>Liam Neeson|Bradley Cooper|Jessica Biel|Sharlt...</td>\n",
       "      <td>Joe Carnahan</td>\n",
       "      <td>There Is No Plan B</td>\n",
       "      <td>A group of Iraq War veterans goes on the run f...</td>\n",
       "      <td>117</td>\n",
       "      <td>Thriller|Action|Adventure|Comedy|Crime</td>\n",
       "      <td>20th Century Fox</td>\n",
       "      <td>6/10/2010</td>\n",
       "      <td>6.2</td>\n",
       "      <td>2010</td>\n",
       "    </tr>\n",
       "  </tbody>\n",
       "</table>\n",
       "</div>"
      ],
      "text/plain": [
       "        imdb_id     budget    revenue    original_title  \\\n",
       "841   tt1596346   18000000   47088990       Soul Surfer   \n",
       "1120  tt0314353   70000000   85632458  Tears of the Sun   \n",
       "204   tt1742334   35000000   17508518          Sabotage   \n",
       "1295  tt1413495   35000000   13785015          Paranoia   \n",
       "401   tt0429493  110000000  177238796        The A-Team   \n",
       "\n",
       "                                                   cast        director  \\\n",
       "841   AnnaSophia Robb|Helen Hunt|Lorraine Nicholson|...   Sean McNamara   \n",
       "1120  Bruce Willis|Monica Bellucci|Cole Hauser|Eamon...   Antoine Fuqua   \n",
       "204   Arnold Schwarzenegger|Sam Worthington|Mireille...      David Ayer   \n",
       "1295  Liam Hemsworth|Harrison Ford|Gary Oldman|Amber...  Robert Luketic   \n",
       "401   Liam Neeson|Bradley Cooper|Jessica Biel|Sharlt...    Joe Carnahan   \n",
       "\n",
       "                                                tagline  \\\n",
       "841   When you come back from a loss, beat the odds,...   \n",
       "1120  He was trained to follow orders. He became a h...   \n",
       "204                                 Leave no loose ends   \n",
       "1295  In a war between kings even a pawn can change ...   \n",
       "401                                  There Is No Plan B   \n",
       "\n",
       "                                               overview  runtime  \\\n",
       "841   Soul Surfer is the inspiring true story of tee...      106   \n",
       "1120  Navy SEAL Lieutenant A.K. Waters and his elite...      121   \n",
       "204   In \"Sabotage\", Arnold Schwarzenegger leads an ...      110   \n",
       "1295  An entry-level employee at a powerful corporat...      106   \n",
       "401   A group of Iraq War veterans goes on the run f...      117   \n",
       "\n",
       "                                      genres  \\\n",
       "841                             Action|Drama   \n",
       "1120                        Action|Drama|War   \n",
       "204              Action|Drama|Thriller|Crime   \n",
       "1295                          Drama|Thriller   \n",
       "401   Thriller|Action|Adventure|Comedy|Crime   \n",
       "\n",
       "                                   production_companies release_date  \\\n",
       "841   Mandalay Pictures|TriStar Pictures|Brookwell-M...     4/8/2011   \n",
       "1120  Columbia Pictures|Revolution Studios|Cheyenne ...     3/7/2003   \n",
       "204   Open Road Films|QED International|Albert S. Ru...    3/28/2014   \n",
       "1295  Gaumont|Kintop Pictures|Reliance Entertainment...    8/14/2013   \n",
       "401                                    20th Century Fox    6/10/2010   \n",
       "\n",
       "      vote_average  release_year  \n",
       "841            6.9          2011  \n",
       "1120           6.4          2003  \n",
       "204            5.4          2014  \n",
       "1295           5.6          2013  \n",
       "401            6.2          2010  "
      ]
     },
     "execution_count": 10,
     "metadata": {},
     "output_type": "execute_result"
    }
   ],
   "source": [
    "data = pd.read_csv('movie_bd_v5.csv')\n",
    "data.sample(5)"
   ]
  },
  {
   "cell_type": "code",
   "execution_count": 11,
   "metadata": {
    "colab": {},
    "colab_type": "code",
    "id": "CoYUnagMVp-C"
   },
   "outputs": [
    {
     "data": {
      "text/html": [
       "<div>\n",
       "<style scoped>\n",
       "    .dataframe tbody tr th:only-of-type {\n",
       "        vertical-align: middle;\n",
       "    }\n",
       "\n",
       "    .dataframe tbody tr th {\n",
       "        vertical-align: top;\n",
       "    }\n",
       "\n",
       "    .dataframe thead th {\n",
       "        text-align: right;\n",
       "    }\n",
       "</style>\n",
       "<table border=\"1\" class=\"dataframe\">\n",
       "  <thead>\n",
       "    <tr style=\"text-align: right;\">\n",
       "      <th></th>\n",
       "      <th>budget</th>\n",
       "      <th>revenue</th>\n",
       "      <th>runtime</th>\n",
       "      <th>vote_average</th>\n",
       "      <th>release_year</th>\n",
       "    </tr>\n",
       "  </thead>\n",
       "  <tbody>\n",
       "    <tr>\n",
       "      <th>count</th>\n",
       "      <td>1.889000e+03</td>\n",
       "      <td>1.889000e+03</td>\n",
       "      <td>1889.000000</td>\n",
       "      <td>1889.000000</td>\n",
       "      <td>1889.000000</td>\n",
       "    </tr>\n",
       "    <tr>\n",
       "      <th>mean</th>\n",
       "      <td>5.431083e+07</td>\n",
       "      <td>1.553653e+08</td>\n",
       "      <td>109.658549</td>\n",
       "      <td>6.140762</td>\n",
       "      <td>2007.860773</td>\n",
       "    </tr>\n",
       "    <tr>\n",
       "      <th>std</th>\n",
       "      <td>4.858721e+07</td>\n",
       "      <td>2.146698e+08</td>\n",
       "      <td>18.017041</td>\n",
       "      <td>0.764763</td>\n",
       "      <td>4.468841</td>\n",
       "    </tr>\n",
       "    <tr>\n",
       "      <th>min</th>\n",
       "      <td>5.000000e+06</td>\n",
       "      <td>2.033165e+06</td>\n",
       "      <td>63.000000</td>\n",
       "      <td>3.300000</td>\n",
       "      <td>2000.000000</td>\n",
       "    </tr>\n",
       "    <tr>\n",
       "      <th>25%</th>\n",
       "      <td>2.000000e+07</td>\n",
       "      <td>3.456058e+07</td>\n",
       "      <td>97.000000</td>\n",
       "      <td>5.600000</td>\n",
       "      <td>2004.000000</td>\n",
       "    </tr>\n",
       "    <tr>\n",
       "      <th>50%</th>\n",
       "      <td>3.800000e+07</td>\n",
       "      <td>8.361541e+07</td>\n",
       "      <td>107.000000</td>\n",
       "      <td>6.100000</td>\n",
       "      <td>2008.000000</td>\n",
       "    </tr>\n",
       "    <tr>\n",
       "      <th>75%</th>\n",
       "      <td>7.200000e+07</td>\n",
       "      <td>1.782626e+08</td>\n",
       "      <td>120.000000</td>\n",
       "      <td>6.600000</td>\n",
       "      <td>2012.000000</td>\n",
       "    </tr>\n",
       "    <tr>\n",
       "      <th>max</th>\n",
       "      <td>3.800000e+08</td>\n",
       "      <td>2.781506e+09</td>\n",
       "      <td>214.000000</td>\n",
       "      <td>8.100000</td>\n",
       "      <td>2015.000000</td>\n",
       "    </tr>\n",
       "  </tbody>\n",
       "</table>\n",
       "</div>"
      ],
      "text/plain": [
       "             budget       revenue      runtime  vote_average  release_year\n",
       "count  1.889000e+03  1.889000e+03  1889.000000   1889.000000   1889.000000\n",
       "mean   5.431083e+07  1.553653e+08   109.658549      6.140762   2007.860773\n",
       "std    4.858721e+07  2.146698e+08    18.017041      0.764763      4.468841\n",
       "min    5.000000e+06  2.033165e+06    63.000000      3.300000   2000.000000\n",
       "25%    2.000000e+07  3.456058e+07    97.000000      5.600000   2004.000000\n",
       "50%    3.800000e+07  8.361541e+07   107.000000      6.100000   2008.000000\n",
       "75%    7.200000e+07  1.782626e+08   120.000000      6.600000   2012.000000\n",
       "max    3.800000e+08  2.781506e+09   214.000000      8.100000   2015.000000"
      ]
     },
     "execution_count": 11,
     "metadata": {},
     "output_type": "execute_result"
    }
   ],
   "source": [
    "data.describe()"
   ]
  },
  {
   "cell_type": "markdown",
   "metadata": {
    "colab_type": "text",
    "id": "DTIt7ezGVp-G"
   },
   "source": [
    "# Предобработка"
   ]
  },
  {
   "cell_type": "code",
   "execution_count": 12,
   "metadata": {
    "colab": {},
    "colab_type": "code",
    "id": "jNb40DwKVp-H"
   },
   "outputs": [],
   "source": [
    "answers = {} # создадим словарь для ответов\n",
    "\n",
    "# тут другие ваши предобработки колонок например:\n",
    "\n",
    "#the time given in the dataset is in string format.\n",
    "#So we need to change this in datetime format\n",
    "# ..."
   ]
  },
  {
   "cell_type": "markdown",
   "metadata": {
    "colab_type": "text",
    "id": "YxZaH-nPVp-L"
   },
   "source": [
    "# 1. У какого фильма из списка самый большой бюджет?"
   ]
  },
  {
   "cell_type": "markdown",
   "metadata": {
    "colab_type": "text",
    "id": "Nd-G5gX6Vp-M"
   },
   "source": [
    "Использовать варианты ответов в коде решения запрещено.    \n",
    "Вы думаете и в жизни у вас будут варианты ответов?)"
   ]
  },
  {
   "cell_type": "code",
   "execution_count": 13,
   "metadata": {
    "colab": {},
    "colab_type": "code",
    "id": "uVnXAY5RVp-O"
   },
   "outputs": [],
   "source": [
    "# в словарь вставляем номер вопроса и ваш ответ на него\n",
    "# Пример: \n",
    "answers['1'] = '2. Spider-Man 3 (tt0413300)'\n",
    "# запишите свой вариант ответа\n",
    "answers['1'] = '...'\n",
    "# если ответили верно, можете добавить комментарий со значком \"+\""
   ]
  },
  {
   "cell_type": "code",
   "execution_count": 14,
   "metadata": {
    "colab": {},
    "colab_type": "code",
    "id": "dZwb3m28Vp-S"
   },
   "outputs": [],
   "source": [
    "# тут пишем ваш код для решения данного вопроса: \n",
    "answers['1'] = data.sort_values('budget', ascending=False).head(1)['original_title'].values[0]"
   ]
  },
  {
   "cell_type": "markdown",
   "metadata": {
    "colab_type": "text",
    "id": "K7L3nbRXVp-X"
   },
   "source": [
    "ВАРИАНТ 2"
   ]
  },
  {
   "cell_type": "code",
   "execution_count": 15,
   "metadata": {
    "colab": {},
    "colab_type": "code",
    "id": "OGaoQI7rVp-X"
   },
   "outputs": [],
   "source": [
    "# можно добавлять разные варианты решения"
   ]
  },
  {
   "cell_type": "markdown",
   "metadata": {
    "colab_type": "text",
    "id": "FNRbbI3vVp-c"
   },
   "source": [
    "# 2. Какой из фильмов самый длительный (в минутах)?"
   ]
  },
  {
   "cell_type": "code",
   "execution_count": 16,
   "metadata": {
    "colab": {},
    "colab_type": "code",
    "id": "vHAoEXNTVp-d"
   },
   "outputs": [],
   "source": [
    "# думаю логику работы с этим словарем вы уже поняли, \n",
    "# по этому не буду больше его дублировать\n",
    "answers['2'] = data.sort_values('runtime', ascending=False).head(1)['original_title'].values[0]"
   ]
  },
  {
   "cell_type": "code",
   "execution_count": 17,
   "metadata": {
    "colab": {},
    "colab_type": "code",
    "id": "ot-VX2XrVp-g"
   },
   "outputs": [
    {
     "name": "stdout",
     "output_type": "stream",
     "text": [
      "{'1': 'Pirates of the Caribbean: On Stranger Tides', '2': 'Gods and Generals'}\n"
     ]
    }
   ],
   "source": [
    "print(answers)"
   ]
  },
  {
   "cell_type": "markdown",
   "metadata": {
    "colab_type": "text",
    "id": "bapLlpW8Vp-k"
   },
   "source": [
    "# 3. Какой из фильмов самый короткий (в минутах)?\n",
    "\n",
    "\n",
    "\n"
   ]
  },
  {
   "cell_type": "code",
   "execution_count": 18,
   "metadata": {
    "colab": {},
    "colab_type": "code",
    "id": "YBxaSHuAVp-l"
   },
   "outputs": [],
   "source": [
    "answers['3'] = data.sort_values('runtime', ascending=True).head(1)['original_title'].values[0]"
   ]
  },
  {
   "cell_type": "markdown",
   "metadata": {
    "colab_type": "text",
    "id": "TfQbxbfNVp-p"
   },
   "source": [
    "# 4. Какова средняя длительность фильмов?\n"
   ]
  },
  {
   "cell_type": "code",
   "execution_count": 19,
   "metadata": {
    "colab": {},
    "colab_type": "code",
    "id": "5K6dKZYVVp-q"
   },
   "outputs": [],
   "source": [
    "answers['4'] = data['runtime'].mean()"
   ]
  },
  {
   "cell_type": "markdown",
   "metadata": {
    "colab_type": "text",
    "id": "r5TvbnT_Vp-u"
   },
   "source": [
    "# 5. Каково медианное значение длительности фильмов? "
   ]
  },
  {
   "cell_type": "code",
   "execution_count": 20,
   "metadata": {
    "colab": {},
    "colab_type": "code",
    "id": "iBROplKnVp-v"
   },
   "outputs": [],
   "source": [
    "answers['5'] = data['runtime'].median()"
   ]
  },
  {
   "cell_type": "markdown",
   "metadata": {
    "colab_type": "text",
    "id": "39P-deDSVp-y"
   },
   "source": [
    "# 6. Какой самый прибыльный фильм?\n",
    "#### Внимание! Здесь и далее под «прибылью» или «убытками» понимается разность между сборами и бюджетом фильма. (прибыль = сборы - бюджет) в нашем датасете это будет (profit = revenue - budget) "
   ]
  },
  {
   "cell_type": "code",
   "execution_count": 21,
   "metadata": {
    "colab": {},
    "colab_type": "code",
    "id": "UYZh4T9WVp-y"
   },
   "outputs": [],
   "source": [
    "# лучше код получения столбца profit вынести в Предобработку что в начале\n",
    "data['profit'] = data['revenue'] - data['budget']"
   ]
  },
  {
   "cell_type": "code",
   "execution_count": 22,
   "metadata": {},
   "outputs": [],
   "source": [
    "answers['6'] = data.sort_values('profit', ascending=False).head(1)['original_title'].values[0]"
   ]
  },
  {
   "cell_type": "markdown",
   "metadata": {
    "colab_type": "text",
    "id": "M99JmIX4Vp-2"
   },
   "source": [
    "# 7. Какой фильм самый убыточный? "
   ]
  },
  {
   "cell_type": "code",
   "execution_count": 23,
   "metadata": {
    "colab": {},
    "colab_type": "code",
    "id": "w-D2m4XPVp-3"
   },
   "outputs": [],
   "source": [
    "answers['7'] = data.sort_values('profit', ascending=True).head(1)['original_title'].values[0]"
   ]
  },
  {
   "cell_type": "markdown",
   "metadata": {
    "colab_type": "text",
    "id": "wEOM5ERVVp-6"
   },
   "source": [
    "# 8. У скольких фильмов из датасета объем сборов оказался выше бюджета?"
   ]
  },
  {
   "cell_type": "code",
   "execution_count": 24,
   "metadata": {
    "colab": {},
    "colab_type": "code",
    "id": "y00_7HD6Vp-7"
   },
   "outputs": [],
   "source": [
    "answers['8'] = data[data['profit']>0].shape[0] "
   ]
  },
  {
   "cell_type": "markdown",
   "metadata": {
    "colab_type": "text",
    "id": "xhpspA9KVp_A"
   },
   "source": [
    "# 9. Какой фильм оказался самым кассовым в 2008 году?"
   ]
  },
  {
   "cell_type": "code",
   "execution_count": 25,
   "metadata": {
    "colab": {},
    "colab_type": "code",
    "id": "MoUyQr9RVp_B"
   },
   "outputs": [],
   "source": [
    "answers['9'] = data[data['release_year'] == 2008].sort_values('revenue', ascending=False).head(1)['original_title'].values[0]"
   ]
  },
  {
   "cell_type": "markdown",
   "metadata": {
    "colab_type": "text",
    "id": "Zi4hDKidVp_F"
   },
   "source": [
    "# 10. Самый убыточный фильм за период с 2012 по 2014 г. (включительно)?\n"
   ]
  },
  {
   "cell_type": "code",
   "execution_count": 26,
   "metadata": {
    "colab": {},
    "colab_type": "code",
    "id": "XqyRmufJVp_F"
   },
   "outputs": [],
   "source": [
    "answers['10'] = data[(data['release_year'] >= 2012) & (data['release_year'] <= 2014)].sort_values('profit', ascending=True).head(1)['original_title'].values[0]"
   ]
  },
  {
   "cell_type": "markdown",
   "metadata": {
    "colab_type": "text",
    "id": "EA7Sa9dkVp_I"
   },
   "source": [
    "# 11. Какого жанра фильмов больше всего?"
   ]
  },
  {
   "cell_type": "code",
   "execution_count": 27,
   "metadata": {
    "colab": {},
    "colab_type": "code",
    "id": "zsJAwJ8QVp_J"
   },
   "outputs": [],
   "source": [
    "# эту задачу тоже можно решать разными подходами, попробуй реализовать разные варианты\n",
    "# если будешь добавлять функцию - выноси ее в предобработку что в начале\n",
    "cnt = {}\n",
    "for index, row in data.iterrows():\n",
    "    for genre in row['genres'].split('|'):\n",
    "        if genre in cnt:\n",
    "            cnt[genre] += 1\n",
    "        else:\n",
    "            cnt[genre] = 1\n",
    "answers['11'] =sorted(cnt.items(), key=lambda x: x[1])[-1][0]"
   ]
  },
  {
   "cell_type": "markdown",
   "metadata": {
    "colab_type": "text",
    "id": "Ax6g2C8SVp_M"
   },
   "source": [
    "ВАРИАНТ 2"
   ]
  },
  {
   "cell_type": "code",
   "execution_count": null,
   "metadata": {
    "colab": {},
    "colab_type": "code",
    "id": "otO3SbrSVp_N"
   },
   "outputs": [],
   "source": []
  },
  {
   "cell_type": "markdown",
   "metadata": {
    "colab_type": "text",
    "id": "T9_bPWpkVp_Q"
   },
   "source": [
    "# 12. Фильмы какого жанра чаще всего становятся прибыльными? "
   ]
  },
  {
   "cell_type": "code",
   "execution_count": 28,
   "metadata": {
    "colab": {},
    "colab_type": "code",
    "id": "Tmt8MaK1Vp_R"
   },
   "outputs": [
    {
     "name": "stdout",
     "output_type": "stream",
     "text": [
      "Drama\n"
     ]
    }
   ],
   "source": [
    "cnt = {}\n",
    "for index, row in data.iterrows():\n",
    "    if row['profit'] <= 0:\n",
    "        continue\n",
    "    for genre in row['genres'].split('|'):\n",
    "        if genre in cnt:\n",
    "            cnt[genre] += 1\n",
    "        else:\n",
    "            cnt[genre] = 1\n",
    "answers['12'] =sorted(cnt.items(), key=lambda x: x[1])[-1][0]\n",
    "print(answers['12'])"
   ]
  },
  {
   "cell_type": "markdown",
   "metadata": {
    "colab_type": "text",
    "id": "0F23bgsDVp_U"
   },
   "source": [
    "# 13. У какого режиссера самые большие суммарные кассовые сборы?"
   ]
  },
  {
   "cell_type": "code",
   "execution_count": 29,
   "metadata": {
    "colab": {},
    "colab_type": "code",
    "id": "K6Z3J8ygVp_X"
   },
   "outputs": [
    {
     "name": "stdout",
     "output_type": "stream",
     "text": [
      "Peter Jackson\n"
     ]
    }
   ],
   "source": [
    "cnt = {}\n",
    "for index, row in data.iterrows():\n",
    "    for director in row['director'].split('|'):\n",
    "        if director in cnt:\n",
    "            cnt[director] += row['profit']\n",
    "        else:\n",
    "            cnt[director] = row['profit']\n",
    "answers['13'] = sorted(cnt.items(), key=lambda x: x[1])[-1][0]\n",
    "print(answers['13'])"
   ]
  },
  {
   "cell_type": "markdown",
   "metadata": {
    "colab_type": "text",
    "id": "PsYC9FgRVp_a"
   },
   "source": [
    "# 14. Какой режисер снял больше всего фильмов в стиле Action?"
   ]
  },
  {
   "cell_type": "code",
   "execution_count": 30,
   "metadata": {
    "colab": {},
    "colab_type": "code",
    "id": "wd2M-wHeVp_b"
   },
   "outputs": [
    {
     "name": "stdout",
     "output_type": "stream",
     "text": [
      "Robert Rodriguez\n"
     ]
    }
   ],
   "source": [
    "cnt = {}\n",
    "for index, row in data.iterrows():\n",
    "    if 'Action' in row['genres']:        \n",
    "        for director in row['director'].split('|'):\n",
    "            if director in cnt:\n",
    "                cnt[director] += 1\n",
    "            else:\n",
    "                cnt[director] = 1\n",
    "answers['14'] = sorted(cnt.items(), key=lambda x: x[1])[-1][0]\n",
    "print(answers['14'])"
   ]
  },
  {
   "cell_type": "markdown",
   "metadata": {
    "colab_type": "text",
    "id": "PQ0KciD7Vp_f"
   },
   "source": [
    "# 15. Фильмы с каким актером принесли самые высокие кассовые сборы в 2012 году? "
   ]
  },
  {
   "cell_type": "code",
   "execution_count": 31,
   "metadata": {
    "colab": {},
    "colab_type": "code",
    "id": "aga62oeKVp_g"
   },
   "outputs": [
    {
     "name": "stdout",
     "output_type": "stream",
     "text": [
      "Chris Hemsworth\n"
     ]
    }
   ],
   "source": [
    "cnt = {}\n",
    "for index, row in data.iterrows():\n",
    "    if row['release_year'] != 2012:\n",
    "        continue \n",
    "    for cast in row['cast'].split('|'):\n",
    "        if cast in cnt:\n",
    "            cnt[cast] += row['revenue']\n",
    "        else:\n",
    "            cnt[cast] = row['revenue']\n",
    "answers['15'] = sorted(cnt.items(), key=lambda x: x[1])[-1][0]\n",
    "print(answers['15'])"
   ]
  },
  {
   "cell_type": "markdown",
   "metadata": {
    "colab_type": "text",
    "id": "mWHyyL7QVp_j"
   },
   "source": [
    "# 16. Какой актер снялся в большем количестве высокобюджетных фильмов?"
   ]
  },
  {
   "cell_type": "code",
   "execution_count": 32,
   "metadata": {
    "colab": {},
    "colab_type": "code",
    "id": "qQtmHKTFVp_k"
   },
   "outputs": [
    {
     "name": "stdout",
     "output_type": "stream",
     "text": [
      "Matt Damon\n"
     ]
    }
   ],
   "source": [
    "sum_budgets = 0\n",
    "cnt_budgets = 0\n",
    "for index, row in data.iterrows():\n",
    "    sum_budgets += row['budget']\n",
    "    cnt_budgets += 1\n",
    "avg_budgets = sum_budgets / cnt_budgets\n",
    "\n",
    "cnt = {}\n",
    "for index, row in data.iterrows():\n",
    "    if row['budget'] <= avg_budgets:\n",
    "        continue\n",
    "    for cast in row['cast'].split('|'):\n",
    "        if cast in cnt:\n",
    "            cnt[cast] += 1\n",
    "        else:\n",
    "            cnt[cast] = 1\n",
    "answers['16'] = sorted(cnt.items(), key=lambda x: x[1])[-1][0]\n",
    "print(answers['16'])"
   ]
  },
  {
   "cell_type": "markdown",
   "metadata": {
    "colab_type": "text",
    "id": "NIh6AaW5Vp_n"
   },
   "source": [
    "# 17. В фильмах какого жанра больше всего снимался Nicolas Cage? "
   ]
  },
  {
   "cell_type": "code",
   "execution_count": 33,
   "metadata": {
    "colab": {},
    "colab_type": "code",
    "id": "H74SJDIBVp_n"
   },
   "outputs": [
    {
     "name": "stdout",
     "output_type": "stream",
     "text": [
      "Action\n"
     ]
    }
   ],
   "source": [
    "cnt = {}\n",
    "for index, row in data.iterrows():\n",
    "    if 'Nicolas Cage' not in row['cast']:\n",
    "        continue\n",
    "    for genre in row['genres'].split('|'):\n",
    "        if genre in cnt:\n",
    "            cnt[genre] += 1\n",
    "        else:\n",
    "            cnt[genre] = 1\n",
    "answers['17'] = sorted(cnt.items(), key=lambda x: x[1])[-1][0]\n",
    "print(answers['17'])"
   ]
  },
  {
   "cell_type": "markdown",
   "metadata": {
    "colab_type": "text",
    "id": "RqOmPRfWVp_q"
   },
   "source": [
    "# 18. Самый убыточный фильм от Paramount Pictures"
   ]
  },
  {
   "cell_type": "code",
   "execution_count": 34,
   "metadata": {
    "colab": {},
    "colab_type": "code",
    "id": "9E_B0Y96Vp_r"
   },
   "outputs": [
    {
     "name": "stdout",
     "output_type": "stream",
     "text": [
      "K-19: The Widowmaker\n"
     ]
    }
   ],
   "source": [
    "cnt = {}\n",
    "for index, row in data.iterrows():\n",
    "    if 'Paramount Pictures' not in row['production_companies']:\n",
    "        continue\n",
    "    cnt[row['original_title']] = row['profit']\n",
    "answers['18'] = sorted(cnt.items(), key=lambda x: x[1])[0][0]\n",
    "print(answers['18'])"
   ]
  },
  {
   "cell_type": "markdown",
   "metadata": {
    "colab_type": "text",
    "id": "vS8Ur6ddVp_u"
   },
   "source": [
    "# 19. Какой год стал самым успешным по суммарным кассовым сборам?"
   ]
  },
  {
   "cell_type": "code",
   "execution_count": 35,
   "metadata": {
    "colab": {},
    "colab_type": "code",
    "id": "Dnbt4GdIVp_v"
   },
   "outputs": [
    {
     "name": "stdout",
     "output_type": "stream",
     "text": [
      "2015\n"
     ]
    }
   ],
   "source": [
    "cnt = {}\n",
    "for index, row in data.iterrows():\n",
    "    if row['release_year'] in cnt:\n",
    "        cnt[row['release_year']] += row['revenue']\n",
    "    else:\n",
    "        cnt[row['release_year']] = row['revenue']\n",
    "answers['19'] = sorted(cnt.items(), key=lambda x: x[1])[-1][0]\n",
    "print(answers['19'])"
   ]
  },
  {
   "cell_type": "markdown",
   "metadata": {
    "colab_type": "text",
    "id": "JAzJh4QAVp_z"
   },
   "source": [
    "# 20. Какой самый прибыльный год для студии Warner Bros?"
   ]
  },
  {
   "cell_type": "code",
   "execution_count": 36,
   "metadata": {
    "colab": {},
    "colab_type": "code",
    "id": "wgVu02DEVp_0"
   },
   "outputs": [
    {
     "name": "stdout",
     "output_type": "stream",
     "text": [
      "2014\n"
     ]
    }
   ],
   "source": [
    "cnt = {}\n",
    "for index, row in data.iterrows():\n",
    "    if 'Warner Bros' not in row['production_companies']:\n",
    "        continue\n",
    "    if row['release_year'] in cnt:\n",
    "        cnt[row['release_year']] += row['revenue']\n",
    "    else:\n",
    "        cnt[row['release_year']] = row['revenue']\n",
    "answers['20'] = sorted(cnt.items(), key=lambda x: x[1])[-1][0]\n",
    "print(answers['20'])"
   ]
  },
  {
   "cell_type": "markdown",
   "metadata": {
    "colab_type": "text",
    "id": "8Im1S2HRVp_4"
   },
   "source": [
    "# 21. В каком месяце за все годы суммарно вышло больше всего фильмов?"
   ]
  },
  {
   "cell_type": "code",
   "execution_count": 37,
   "metadata": {
    "colab": {},
    "colab_type": "code",
    "id": "lev6TH7gVp_4"
   },
   "outputs": [
    {
     "name": "stdout",
     "output_type": "stream",
     "text": [
      "9\n"
     ]
    }
   ],
   "source": [
    "cnt = {}\n",
    "for index, row in data.iterrows():\n",
    "    month = row['release_date'].split('/')[0]\n",
    "    if month in cnt:\n",
    "        cnt[month] += 1\n",
    "    else:\n",
    "        cnt[month] = 1\n",
    "answers['21'] = sorted(cnt.items(), key=lambda x: x[1])[-1][0]\n",
    "print(answers['21'])"
   ]
  },
  {
   "cell_type": "markdown",
   "metadata": {
    "colab_type": "text",
    "id": "uAJsZ_NeVp_7"
   },
   "source": [
    "# 22. Сколько суммарно вышло фильмов летом? (за июнь, июль, август)"
   ]
  },
  {
   "cell_type": "code",
   "execution_count": 38,
   "metadata": {
    "colab": {},
    "colab_type": "code",
    "id": "Aa-hEREoVp_8"
   },
   "outputs": [
    {
     "name": "stdout",
     "output_type": "stream",
     "text": [
      "450\n"
     ]
    }
   ],
   "source": [
    "answers['22'] = cnt['6'] + cnt['7'] + cnt['8']\n",
    "print(answers['22'])"
   ]
  },
  {
   "cell_type": "markdown",
   "metadata": {
    "colab_type": "text",
    "id": "G94ppOY1VqAA"
   },
   "source": [
    "# 23. Для какого режиссера зима – самое продуктивное время года? "
   ]
  },
  {
   "cell_type": "code",
   "execution_count": 39,
   "metadata": {
    "colab": {},
    "colab_type": "code",
    "id": "RhNTsamuVqAB"
   },
   "outputs": [
    {
     "name": "stdout",
     "output_type": "stream",
     "text": [
      "Peter Jackson\n"
     ]
    }
   ],
   "source": [
    "director2count = {}\n",
    "for index, row in data.iterrows():\n",
    "    month = int(row['release_date'].split('/')[0])\n",
    "    directors = row['director'].split('|')\n",
    "    if month == 12 or month == 1 or month == 2:\n",
    "        for director in directors:\n",
    "            if director in director2count:\n",
    "                director2count[director] +=1\n",
    "            else:\n",
    "                director2count[director] =1\n",
    "answers['23'] = sorted(director2count.items(), key=lambda x: x[1])[-1][0]\n",
    "print(answers['23'])                \n",
    "                \n",
    "                "
   ]
  },
  {
   "cell_type": "markdown",
   "metadata": {
    "colab_type": "text",
    "id": "RBo0JVjVVqAF"
   },
   "source": [
    "# 24. Какая студия дает самые длинные названия своим фильмам по количеству символов?"
   ]
  },
  {
   "cell_type": "code",
   "execution_count": 40,
   "metadata": {
    "colab": {},
    "colab_type": "code",
    "id": "QRGS8L0iVqAG"
   },
   "outputs": [
    {
     "name": "stdout",
     "output_type": "stream",
     "text": [
      "Four By Two Productions\n"
     ]
    }
   ],
   "source": [
    "company2counts = {}\n",
    "for index, row in data.iterrows():\n",
    "    companies = row['production_companies'].split('|')\n",
    "    title_len = len(row['original_title'])\n",
    "    for company in companies:\n",
    "        if company in company2counts:\n",
    "            company2counts[company].append(title_len)\n",
    "        else:\n",
    "            company2counts[company] = [title_len]\n",
    "answers['24'] = sorted(company2counts.items(), key=lambda x: max(x[1]))[-1][0]\n",
    "print(answers['24'])"
   ]
  },
  {
   "cell_type": "markdown",
   "metadata": {
    "colab_type": "text",
    "id": "9G0hbvR7VqAK"
   },
   "source": [
    "# 25. Описание фильмов какой студии в среднем самые длинные по количеству слов?"
   ]
  },
  {
   "cell_type": "code",
   "execution_count": 41,
   "metadata": {
    "colab": {},
    "colab_type": "code",
    "id": "Ge2GsLNxVqAK"
   },
   "outputs": [
    {
     "name": "stdout",
     "output_type": "stream",
     "text": [
      "Midnight Picture Show\n"
     ]
    }
   ],
   "source": [
    "company2counts = {}\n",
    "for index, row in data.iterrows():\n",
    "    companies = row['production_companies'].split('|')\n",
    "    word_cnt = len(row['overview'].split(' '))\n",
    "    for company in companies:\n",
    "        if company in company2counts:\n",
    "            company2counts[company].append(word_cnt)\n",
    "        else:\n",
    "            company2counts[company] = [word_cnt]\n",
    "answers['25'] = sorted(company2counts.items(), key=lambda x: sum(x[1])/len(x[1]))[-1][0]\n",
    "print(answers['25'])"
   ]
  },
  {
   "cell_type": "markdown",
   "metadata": {
    "colab_type": "text",
    "id": "FJ1AFt90VqAP"
   },
   "source": [
    "# 26. Какие фильмы входят в 1 процент лучших по рейтингу? \n",
    "по vote_average"
   ]
  },
  {
   "cell_type": "code",
   "execution_count": 42,
   "metadata": {
    "colab": {},
    "colab_type": "code",
    "id": "8qmJVq4CVqAQ"
   },
   "outputs": [
    {
     "name": "stdout",
     "output_type": "stream",
     "text": [
      "['Prisoners', 'Dallas Buyers Club', 'The Prestige', 'Eternal Sunshine of the Spotless Mind', 'There Will Be Blood', 'Guardians of the Galaxy', 'Gone Girl', 'The Grand Budapest Hotel', 'Inception', 'The Pianist', 'The Lord of the Rings: The Return of the King', 'The Wolf of Wall Street', '12 Years a Slave', 'Memento', 'Inside Out', 'Room', 'Interstellar', 'The Imitation Game', 'The Dark Knight']\n"
     ]
    }
   ],
   "source": [
    "title2vote = {}\n",
    "for index, row in data.iterrows():\n",
    "    title = row['original_title']\n",
    "    vote = row['vote_average']\n",
    "    title2vote[title] = vote\n",
    "films = sorted(title2vote.items(), key=lambda x: x[1])\n",
    "best_films = films[(len(films) * 99 // 100):]\n",
    "answers['26'] = [i[0] for i in best_films]\n",
    "print(answers['26'])"
   ]
  },
  {
   "cell_type": "markdown",
   "metadata": {
    "colab_type": "text",
    "id": "MdXsUXbCVqAV"
   },
   "source": [
    "# 27. Какие актеры чаще всего снимаются в одном фильме вместе?\n"
   ]
  },
  {
   "cell_type": "code",
   "execution_count": 46,
   "metadata": {},
   "outputs": [
    {
     "name": "stdout",
     "output_type": "stream",
     "text": [
      "Emma Watson_Rupert Grint\n"
     ]
    }
   ],
   "source": [
    "actors2count = {}\n",
    "for index, row in data.iterrows():\n",
    "    actors = sorted(row['cast'].split('|'))\n",
    "    for i in range(len(actors)):\n",
    "        for j in range(i+1, len(actors)):\n",
    "            names = actors[i] + \"_\" + actors[j]\n",
    "            if names in actors2count:\n",
    "                actors2count[names] += 1\n",
    "            else:\n",
    "                actors2count[names] = 1\n",
    "\n",
    "answers['27'] = sorted(actors2count.items(), key=lambda x: x[1])[-1][0]\n",
    "print(answers['27'])"
   ]
  },
  {
   "cell_type": "markdown",
   "metadata": {
    "colab_type": "text",
    "id": "4ymnxEVoVqAW"
   },
   "source": [
    "ВАРИАНТ 2"
   ]
  },
  {
   "cell_type": "markdown",
   "metadata": {
    "colab_type": "text",
    "id": "U0nONFnGVqAX"
   },
   "source": [
    "# Submission"
   ]
  },
  {
   "cell_type": "code",
   "execution_count": 47,
   "metadata": {
    "colab": {},
    "colab_type": "code",
    "id": "IfcaRO9-VqAX",
    "outputId": "0f132912-32bb-4196-c98c-abfbc4ad5a5f"
   },
   "outputs": [
    {
     "data": {
      "text/plain": [
       "{'1': 'Pirates of the Caribbean: On Stranger Tides',\n",
       " '2': 'Gods and Generals',\n",
       " '3': 'Winnie the Pooh',\n",
       " '4': 109.6585494970884,\n",
       " '5': 107.0,\n",
       " '6': 'Avatar',\n",
       " '7': 'The Lone Ranger',\n",
       " '8': 1478,\n",
       " '9': 'The Dark Knight',\n",
       " '10': 'The Lone Ranger',\n",
       " '11': 'Drama',\n",
       " '12': 'Drama',\n",
       " '13': 'Peter Jackson',\n",
       " '14': 'Robert Rodriguez',\n",
       " '15': 'Chris Hemsworth',\n",
       " '16': 'Matt Damon',\n",
       " '17': 'Action',\n",
       " '18': 'K-19: The Widowmaker',\n",
       " '19': 2015,\n",
       " '20': 2014,\n",
       " '21': '9',\n",
       " '22': 450,\n",
       " '23': 'Peter Jackson',\n",
       " '24': 'Four By Two Productions',\n",
       " '25': 'Midnight Picture Show',\n",
       " '26': ['Prisoners',\n",
       "  'Dallas Buyers Club',\n",
       "  'The Prestige',\n",
       "  'Eternal Sunshine of the Spotless Mind',\n",
       "  'There Will Be Blood',\n",
       "  'Guardians of the Galaxy',\n",
       "  'Gone Girl',\n",
       "  'The Grand Budapest Hotel',\n",
       "  'Inception',\n",
       "  'The Pianist',\n",
       "  'The Lord of the Rings: The Return of the King',\n",
       "  'The Wolf of Wall Street',\n",
       "  '12 Years a Slave',\n",
       "  'Memento',\n",
       "  'Inside Out',\n",
       "  'Room',\n",
       "  'Interstellar',\n",
       "  'The Imitation Game',\n",
       "  'The Dark Knight'],\n",
       " '27': 'Emma Watson_Rupert Grint'}"
      ]
     },
     "execution_count": 47,
     "metadata": {},
     "output_type": "execute_result"
    }
   ],
   "source": [
    "# в конце можно посмотреть свои ответы к каждому вопросу\n",
    "answers"
   ]
  },
  {
   "cell_type": "code",
   "execution_count": 45,
   "metadata": {
    "colab": {},
    "colab_type": "code",
    "id": "SiRmHPl8VqAd"
   },
   "outputs": [
    {
     "data": {
      "text/plain": [
       "27"
      ]
     },
     "execution_count": 45,
     "metadata": {},
     "output_type": "execute_result"
    }
   ],
   "source": [
    "# и убедиться что ни чего не пропустил)\n",
    "len(answers)"
   ]
  },
  {
   "cell_type": "code",
   "execution_count": null,
   "metadata": {
    "colab": {},
    "colab_type": "code",
    "id": "uCfuTkRbVqAg"
   },
   "outputs": [],
   "source": []
  },
  {
   "cell_type": "code",
   "execution_count": null,
   "metadata": {
    "colab": {},
    "colab_type": "code",
    "id": "Vwx3NrkSVqAl"
   },
   "outputs": [],
   "source": []
  }
 ],
 "metadata": {
  "colab": {
   "name": "Copy of [SF-DST] Movies IMBD v4.1 TEMPLATE.ipynb",
   "provenance": []
  },
  "kernelspec": {
   "display_name": "Python 3",
   "language": "python",
   "name": "python3"
  },
  "language_info": {
   "codemirror_mode": {
    "name": "ipython",
    "version": 3
   },
   "file_extension": ".py",
   "mimetype": "text/x-python",
   "name": "python",
   "nbconvert_exporter": "python",
   "pygments_lexer": "ipython3",
   "version": "3.8.5"
  }
 },
 "nbformat": 4,
 "nbformat_minor": 1
}
